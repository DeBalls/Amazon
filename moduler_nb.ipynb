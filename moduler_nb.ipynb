{
 "cells": [
  {
   "cell_type": "code",
   "execution_count": 1,
   "metadata": {},
   "outputs": [],
   "source": [
    "import pandas as pd\n",
    "from sklearn.model_selection import train_test_split\n",
    "from sklearn.ensemble import RandomForestRegressor\n",
    "from sklearn.metrics import mean_squared_error\n"
   ]
  },
  {
   "cell_type": "code",
   "execution_count": 2,
   "metadata": {},
   "outputs": [],
   "source": [
    "# Load the training data\n",
    "train = pd.read_csv(r\"C:\\Users\\raghu\\Downloads\\datasetb2d9982 (1)\\dataset\\train.csv\")\n"
   ]
  },
  {
   "cell_type": "code",
   "execution_count": 3,
   "metadata": {},
   "outputs": [
    {
     "name": "stdout",
     "output_type": "stream",
     "text": [
      "         PRODUCT_ID                                              TITLE   \n",
      "0           1925202  ArtzFolio Tulip Flowers Blackout Curtain for D...  \\\n",
      "1           2673191  Marks & Spencer Girls' Pyjama Sets T86_2561C_N...   \n",
      "2           2765088  PRIKNIK Horn Red Electric Air Horn Compressor ...   \n",
      "3           1594019  ALISHAH Women's Cotton Ankle Length Leggings C...   \n",
      "4            283658  The United Empire Loyalists: A Chronicle of th...   \n",
      "...             ...                                                ...   \n",
      "2249693     2422167  Nike Women's As W Ny Df Swsh Hn Kh Bra (CZ7610...   \n",
      "2249694     2766635  (3PCS) Goose Game Cute Cartoon Enamel Pins, Fu...   \n",
      "2249695     1987786  Kangroo Sweep Movement Printed Wooden Wall Clo...   \n",
      "2249696     1165754  Electro Voice EKX-BRKT15 | Wall Mount Bracket ...   \n",
      "2249697     1072666  Skyjacker C7360SP Component Box For PN[C7360PK...   \n",
      "\n",
      "                                             BULLET_POINTS   \n",
      "0        [LUXURIOUS & APPEALING: Beautiful custom-made ...  \\\n",
      "1        [Harry Potter Hedwig Pyjamas (6-16 Yrs),100% c...   \n",
      "2        [Loud Dual Tone Trumpet Horn, Compatible With ...   \n",
      "3        [Made By 95%cotton and 5% Lycra which gives yo...   \n",
      "4                                                      NaN   \n",
      "...                                                    ...   \n",
      "2249693                               Material : Polyester   \n",
      "2249694  [❤ [Inspiration] Inspired by the Untitled Goos...   \n",
      "2249695  [Dial size: 12 inches in diameter,Big, clear r...   \n",
      "2249696                                                NaN   \n",
      "2249697  [Component Box For PN[C7360PK],4 in. Lift,Incl...   \n",
      "\n",
      "                                               DESCRIPTION  PRODUCT_TYPE_ID   \n",
      "0                                                      NaN             1650  \\\n",
      "1                                                      NaN             2755   \n",
      "2        Specifications: Color: Red, Material: Aluminiu...             7537   \n",
      "3        AISHAH Women's Lycra Cotton Ankel Leggings. Br...             2996   \n",
      "4                                                      NaN             6112   \n",
      "...                                                    ...              ...   \n",
      "2249693                                                NaN             3009   \n",
      "2249694  <p><b>[Brand]: </b>XVIEONR</p> <p><br></p> <p>...             3413   \n",
      "2249695  Wall Clocks Are Very Attractive In Looks And E...             1574   \n",
      "2249696                                                NaN              592   \n",
      "2249697  Skyjacker C7360SP Component Box For PN[C7360PK...             7367   \n",
      "\n",
      "         PRODUCT_LENGTH  \n",
      "0           2125.980000  \n",
      "1            393.700000  \n",
      "2            748.031495  \n",
      "3            787.401574  \n",
      "4            598.424000  \n",
      "...                 ...  \n",
      "2249693     1181.100000  \n",
      "2249694      125.984252  \n",
      "2249695     1200.000000  \n",
      "2249696     2900.000000  \n",
      "2249697     2000.000000  \n",
      "\n",
      "[2249698 rows x 6 columns]\n"
     ]
    },
    {
     "ename": "",
     "evalue": "",
     "output_type": "error",
     "traceback": [
      "\u001b[1;31mThe Kernel crashed while executing code in the the current cell or a previous cell. Please review the code in the cell(s) to identify a possible cause of the failure. Click <a href='https://aka.ms/vscodeJupyterKernelCrash'>here</a> for more info. View Jupyter <a href='command:jupyter.viewOutput'>log</a> for further details."
     ]
    }
   ],
   "source": [
    "print(train)"
   ]
  },
  {
   "cell_type": "code",
   "execution_count": null,
   "metadata": {},
   "outputs": [],
   "source": []
  }
 ],
 "metadata": {
  "kernelspec": {
   "display_name": "Python 3",
   "language": "python",
   "name": "python3"
  },
  "language_info": {
   "codemirror_mode": {
    "name": "ipython",
    "version": 3
   },
   "file_extension": ".py",
   "mimetype": "text/x-python",
   "name": "python",
   "nbconvert_exporter": "python",
   "pygments_lexer": "ipython3",
   "version": "3.11.3"
  },
  "orig_nbformat": 4
 },
 "nbformat": 4,
 "nbformat_minor": 2
}
